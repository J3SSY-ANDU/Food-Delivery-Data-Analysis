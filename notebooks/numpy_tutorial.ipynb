{
 "cells": [
  {
   "cell_type": "markdown",
   "id": "79a975c8",
   "metadata": {},
   "source": [
    "### Load in numpy"
   ]
  },
  {
   "cell_type": "code",
   "execution_count": 3,
   "id": "403b6190",
   "metadata": {},
   "outputs": [],
   "source": [
    "import numpy as np"
   ]
  },
  {
   "cell_type": "markdown",
   "id": "09f3f4bd",
   "metadata": {},
   "source": [
    "### The Basics"
   ]
  },
  {
   "cell_type": "code",
   "execution_count": 42,
   "id": "bb8aae2a",
   "metadata": {},
   "outputs": [
    {
     "name": "stdout",
     "output_type": "stream",
     "text": [
      "[1 2 3]\n"
     ]
    }
   ],
   "source": [
    "# Create a NumPy array\n",
    "a = np.array([1,2,3], dtype='int16') # set data type to int16\n",
    "print(a)"
   ]
  },
  {
   "cell_type": "code",
   "execution_count": 43,
   "id": "7eb3cbfd",
   "metadata": {},
   "outputs": [
    {
     "name": "stdout",
     "output_type": "stream",
     "text": [
      "[[9. 8. 7.]\n",
      " [6. 5. 4.]]\n"
     ]
    }
   ],
   "source": [
    "b = np.array([[9.0,8.0,7.0],[6.0,5.0,4.0]]) # Create a 2D NumPy array\n",
    "print(b)"
   ]
  },
  {
   "cell_type": "code",
   "execution_count": 44,
   "id": "7d2c1b85",
   "metadata": {},
   "outputs": [
    {
     "data": {
      "text/plain": [
       "2"
      ]
     },
     "execution_count": 44,
     "metadata": {},
     "output_type": "execute_result"
    }
   ],
   "source": [
    "# Get Dimension\n",
    "a.ndim  # Returns the number of dimensions of the array\n",
    "b.ndim  # Returns the number of dimensions of the array"
   ]
  },
  {
   "cell_type": "code",
   "execution_count": 45,
   "id": "256da478",
   "metadata": {},
   "outputs": [
    {
     "data": {
      "text/plain": [
       "(2, 3)"
      ]
     },
     "execution_count": 45,
     "metadata": {},
     "output_type": "execute_result"
    }
   ],
   "source": [
    "# Get Shape\n",
    "a.shape  # Returns the shape of the array (number of elements along each dimension)\n",
    "b.shape  # Returns the shape of the array (number of elements along each dimension)"
   ]
  },
  {
   "cell_type": "code",
   "execution_count": 46,
   "id": "489f9e9d",
   "metadata": {},
   "outputs": [
    {
     "data": {
      "text/plain": [
       "dtype('int16')"
      ]
     },
     "execution_count": 46,
     "metadata": {},
     "output_type": "execute_result"
    }
   ],
   "source": [
    "# Get Type\n",
    "a.dtype  # Returns the data type of the elements in the array"
   ]
  },
  {
   "cell_type": "code",
   "execution_count": 47,
   "id": "4bbf839a",
   "metadata": {},
   "outputs": [
    {
     "data": {
      "text/plain": [
       "8"
      ]
     },
     "execution_count": 47,
     "metadata": {},
     "output_type": "execute_result"
    }
   ],
   "source": [
    "# Get Size\n",
    "a.itemsize  # Returns the size in bytes of each element in the array\n",
    "b.itemsize # Returns the size in bytes of each element in the array\n",
    "# a byte size is 2 because we set the data type to int16"
   ]
  },
  {
   "cell_type": "code",
   "execution_count": 48,
   "id": "8eb723f8",
   "metadata": {},
   "outputs": [
    {
     "data": {
      "text/plain": [
       "6"
      ]
     },
     "execution_count": 48,
     "metadata": {},
     "output_type": "execute_result"
    }
   ],
   "source": [
    "# Get Total Size\n",
    "a.size # Returns the total number of elements in the array\n",
    "a.nbytes # Returns the total number of bytes consumed by the array (a.itemsize * a.size)"
   ]
  },
  {
   "cell_type": "markdown",
   "id": "10164dee",
   "metadata": {},
   "source": [
    "### Accessing / Changing specific elements, rows, columns, etc"
   ]
  },
  {
   "cell_type": "code",
   "execution_count": 49,
   "id": "fda64458",
   "metadata": {},
   "outputs": [
    {
     "name": "stdout",
     "output_type": "stream",
     "text": [
      "[[ 1  2  3  4  5  6  7]\n",
      " [ 8  9 10 11 12 13 14]]\n"
     ]
    }
   ],
   "source": [
    "a = np.array([[1,2,3,4,5,6,7],[8,9,10,11,12,13,14]]) # Create a 2D NumPy array\n",
    "print(a)"
   ]
  },
  {
   "cell_type": "code",
   "execution_count": 50,
   "id": "2376489a",
   "metadata": {},
   "outputs": [
    {
     "data": {
      "text/plain": [
       "np.int64(13)"
      ]
     },
     "execution_count": 50,
     "metadata": {},
     "output_type": "execute_result"
    }
   ],
   "source": [
    "# Get a specific element [r, c]\n",
    "a[1, 5]  # Access the element at row 1, column 6 (zero-indexed)\n",
    "a[1, -2]  # Access the element at row 1, column 6 from the end"
   ]
  },
  {
   "cell_type": "code",
   "execution_count": 51,
   "id": "85f94be9",
   "metadata": {},
   "outputs": [
    {
     "data": {
      "text/plain": [
       "array([1, 2, 3, 4, 5, 6, 7])"
      ]
     },
     "execution_count": 51,
     "metadata": {},
     "output_type": "execute_result"
    }
   ],
   "source": [
    "# Get a specific row [r, :]\n",
    "a[0, :]"
   ]
  },
  {
   "cell_type": "code",
   "execution_count": 52,
   "id": "45836f45",
   "metadata": {},
   "outputs": [
    {
     "data": {
      "text/plain": [
       "array([ 3, 10])"
      ]
     },
     "execution_count": 52,
     "metadata": {},
     "output_type": "execute_result"
    }
   ],
   "source": [
    "# Get a specific column [:, c]\n",
    "a[:, 2] # Access the entire third column (zero-indexed)"
   ]
  },
  {
   "cell_type": "code",
   "execution_count": 53,
   "id": "cc8053ac",
   "metadata": {},
   "outputs": [
    {
     "data": {
      "text/plain": [
       "array([2, 4, 6])"
      ]
     },
     "execution_count": 53,
     "metadata": {},
     "output_type": "execute_result"
    }
   ],
   "source": [
    "# Getting a little more fancy [startindex:endindex:stepsize]\n",
    "a[0, 1:6:2]  # Access elements from row 0, columns 1 to 5 with a step size of 2\n",
    "a[0, 1:-1:2] # Access elements from row 0, columns 1 to the second last with a step size of 2"
   ]
  },
  {
   "cell_type": "code",
   "execution_count": 55,
   "id": "7fc06a4d",
   "metadata": {},
   "outputs": [
    {
     "name": "stdout",
     "output_type": "stream",
     "text": [
      "[[ 1  2  5  4  5  6  7]\n",
      " [ 8  9  5 11 12 20 14]]\n",
      "[[ 1  2  5  4  5  6  7]\n",
      " [ 8  9  5 11 12 20 14]]\n",
      "[[ 1  2  1  4  5  6  7]\n",
      " [ 8  9  2 11 12 20 14]]\n"
     ]
    }
   ],
   "source": [
    "a[1,5] = 20  # Set the element at row 1, column 6 to 20\n",
    "print(a)\n",
    "\n",
    "a[:, 2] = 5 # Set the entire third column to 5\n",
    "print(a)\n",
    "\n",
    "a[:, 2] = [1,2] # Set the entire third column to a list of values\n",
    "print(a)"
   ]
  },
  {
   "cell_type": "code",
   "execution_count": 56,
   "id": "ab7b21d7",
   "metadata": {},
   "outputs": [
    {
     "name": "stdout",
     "output_type": "stream",
     "text": [
      "[[[1 2]\n",
      "  [3 4]]\n",
      "\n",
      " [[5 6]\n",
      "  [7 8]]]\n"
     ]
    }
   ],
   "source": [
    "# Create a 3D NumPy array\n",
    "b = np.array([[[1,2], [3,4]], [[5,6], [7,8]]])  # Shape (2, 2, 2)\n",
    "print(b)"
   ]
  },
  {
   "cell_type": "code",
   "execution_count": 58,
   "id": "623a8ef1",
   "metadata": {},
   "outputs": [
    {
     "data": {
      "text/plain": [
       "array([[1, 2],\n",
       "       [5, 6]])"
      ]
     },
     "execution_count": 58,
     "metadata": {},
     "output_type": "execute_result"
    }
   ],
   "source": [
    "# Get specific element (work outside in)\n",
    "b[0,1,1] # Access the element at first block, second row, second column\n",
    "b[:,0,:] # Access all blocks, first row, all columns"
   ]
  },
  {
   "cell_type": "code",
   "execution_count": 59,
   "id": "65509a80",
   "metadata": {},
   "outputs": [
    {
     "name": "stdout",
     "output_type": "stream",
     "text": [
      "[[[1 2]\n",
      "  [9 9]]\n",
      "\n",
      " [[5 6]\n",
      "  [8 8]]]\n"
     ]
    }
   ],
   "source": [
    "# replace \n",
    "b[:, 1, :] = [[9,9], [8,8]]  # Set the second row of all blocks to [9,9] and [8,8]\n",
    "print(b)"
   ]
  },
  {
   "cell_type": "markdown",
   "id": "e6ee00a1",
   "metadata": {},
   "source": [
    "### Initializing Different Types of Arrays"
   ]
  },
  {
   "cell_type": "code",
   "execution_count": 61,
   "id": "dd4aef27",
   "metadata": {},
   "outputs": [
    {
     "data": {
      "text/plain": [
       "array([[[[0., 0.],\n",
       "         [0., 0.],\n",
       "         [0., 0.]],\n",
       "\n",
       "        [[0., 0.],\n",
       "         [0., 0.],\n",
       "         [0., 0.]],\n",
       "\n",
       "        [[0., 0.],\n",
       "         [0., 0.],\n",
       "         [0., 0.]]],\n",
       "\n",
       "\n",
       "       [[[0., 0.],\n",
       "         [0., 0.],\n",
       "         [0., 0.]],\n",
       "\n",
       "        [[0., 0.],\n",
       "         [0., 0.],\n",
       "         [0., 0.]],\n",
       "\n",
       "        [[0., 0.],\n",
       "         [0., 0.],\n",
       "         [0., 0.]]]])"
      ]
     },
     "execution_count": 61,
     "metadata": {},
     "output_type": "execute_result"
    }
   ],
   "source": [
    "# All 0s matrix\n",
    "np.zeros(5)  # Create a 1D array of zeros with 5 elements\n",
    "np.zeros((2, 3))  # Create a 2D array of zeros with shape (2, 3)\n",
    "np.zeros((2,3,4))  # Create a 3D array of zeros with shape (2, 3, 4)\n",
    "np.zeros((2,3,3,2))  # Create a 4D array of zeros with shape (2, 3, 4, 5)"
   ]
  },
  {
   "cell_type": "code",
   "execution_count": 62,
   "id": "263028e7",
   "metadata": {},
   "outputs": [
    {
     "data": {
      "text/plain": [
       "array([[[1, 1],\n",
       "        [1, 1]],\n",
       "\n",
       "       [[1, 1],\n",
       "        [1, 1]],\n",
       "\n",
       "       [[1, 1],\n",
       "        [1, 1]],\n",
       "\n",
       "       [[1, 1],\n",
       "        [1, 1]]], dtype=int32)"
      ]
     },
     "execution_count": 62,
     "metadata": {},
     "output_type": "execute_result"
    }
   ],
   "source": [
    "# All 1s matrix\n",
    "np.ones((4,2,2), dtype='int32')  # Create a 3D array of ones with shape (4, 2, 2) and data type int32"
   ]
  },
  {
   "cell_type": "code",
   "execution_count": 64,
   "id": "24dafff7",
   "metadata": {},
   "outputs": [
    {
     "data": {
      "text/plain": [
       "array([[99., 99.],\n",
       "       [99., 99.]], dtype=float32)"
      ]
     },
     "execution_count": 64,
     "metadata": {},
     "output_type": "execute_result"
    }
   ],
   "source": [
    "# Any other number \n",
    "np.full((2,2), 99, dtype='float32')  # Create a 2D array filled with the number 99"
   ]
  },
  {
   "cell_type": "code",
   "execution_count": 67,
   "id": "2a418fa5",
   "metadata": {},
   "outputs": [
    {
     "data": {
      "text/plain": [
       "array([[4, 4, 4, 4, 4, 4, 4],\n",
       "       [4, 4, 4, 4, 4, 4, 4]])"
      ]
     },
     "execution_count": 67,
     "metadata": {},
     "output_type": "execute_result"
    }
   ],
   "source": [
    "# Any other number (full_like)\n",
    "np.full_like(a, 4)  # Create an array with the same shape as 'a', filled with the number 4\n",
    "np.full(a.shape, 4)  # Create an array with the same shape as 'a', filled with the number 4"
   ]
  },
  {
   "cell_type": "code",
   "execution_count": 70,
   "id": "5b189f8c",
   "metadata": {},
   "outputs": [
    {
     "data": {
      "text/plain": [
       "array([[0.91907486, 0.34335255, 0.47941638, 0.23570792, 0.41864497,\n",
       "        0.18283139, 0.15407325],\n",
       "       [0.63894127, 0.96227031, 0.31292864, 0.65610127, 0.42616834,\n",
       "        0.68412756, 0.88692378]])"
      ]
     },
     "execution_count": 70,
     "metadata": {},
     "output_type": "execute_result"
    }
   ],
   "source": [
    "# Random decimal numbers\n",
    "np.random.rand(4,2)  # Create a 2D array of shape (4, 2) with random decimal numbers between 0 and 1\n",
    "# we don't need to pass a tuple, we can pass the shape directly as separate arguments\n",
    "\n",
    "np.random.random_sample(a.shape)  # Create a 2D array with the same shape as 'a' with random decimal numbers between 0 and 1"
   ]
  },
  {
   "cell_type": "code",
   "execution_count": 86,
   "id": "9a3e1fb2",
   "metadata": {},
   "outputs": [
    {
     "data": {
      "text/plain": [
       "array([[ 1,  6, -1],\n",
       "       [-4,  0,  6],\n",
       "       [ 3,  3,  0]], dtype=int32)"
      ]
     },
     "execution_count": 86,
     "metadata": {},
     "output_type": "execute_result"
    }
   ],
   "source": [
    "# Random Integer values\n",
    "np.random.randint(7, size=(3,3))  # Create a 2D array of shape (3, 3) with random integers between 0 and 6\n",
    "np.random.randint(-4, 8, size=(3,3)) # Create a 2D array of shape (3, 3) with random integers between -4 and 7"
   ]
  },
  {
   "cell_type": "code",
   "execution_count": null,
   "id": "18116f44",
   "metadata": {},
   "outputs": [
    {
     "data": {
      "text/plain": [
       "array([[1., 0., 0.],\n",
       "       [0., 1., 0.],\n",
       "       [0., 0., 1.]])"
      ]
     },
     "execution_count": 87,
     "metadata": {},
     "output_type": "execute_result"
    }
   ],
   "source": [
    "# The identity matrix (square matrix with 1s on the diagonal and 0s elsewhere)\n",
    "np.identity(3)"
   ]
  },
  {
   "cell_type": "code",
   "execution_count": null,
   "id": "018436f5",
   "metadata": {},
   "outputs": [
    {
     "name": "stdout",
     "output_type": "stream",
     "text": [
      "[[1 2 3]\n",
      " [1 2 3]\n",
      " [1 2 3]]\n"
     ]
    }
   ],
   "source": [
    "# Repeat an array\n",
    "arr = np.array([[1,2,3]])\n",
    "r1 = np.repeat(arr,3, axis=0)  # Repeat each element of 'arr' 3 times\n",
    "print(r1)"
   ]
  },
  {
   "cell_type": "code",
   "execution_count": 93,
   "id": "d8bbc679",
   "metadata": {},
   "outputs": [
    {
     "name": "stdout",
     "output_type": "stream",
     "text": [
      "[[1. 1. 1. 1. 1.]\n",
      " [1. 0. 0. 0. 1.]\n",
      " [1. 0. 9. 0. 1.]\n",
      " [1. 0. 0. 0. 1.]\n",
      " [1. 1. 1. 1. 1.]]\n"
     ]
    }
   ],
   "source": [
    "output = np.ones((5,5))\n",
    "# print(output)\n",
    "\n",
    "z = np.zeros((3,3))\n",
    "z[1,1] = 9  # Set the center element to 9\n",
    "# print(z)\n",
    "\n",
    "output[1:-1, 1:-1] = z # Place 'z' in the center of 'output'\n",
    "print(output)"
   ]
  },
  {
   "cell_type": "markdown",
   "id": "e0e59a4d",
   "metadata": {},
   "source": [
    "#### Be careful when copying arrays!!!"
   ]
  },
  {
   "cell_type": "code",
   "execution_count": 100,
   "id": "5884ca81",
   "metadata": {},
   "outputs": [
    {
     "name": "stdout",
     "output_type": "stream",
     "text": [
      "[100   2   3]\n",
      "[100   2   3]\n",
      "[1 2 3]\n",
      "[100   2   3]\n"
     ]
    }
   ],
   "source": [
    "a = np.array([1,2,3])\n",
    "\n",
    "b = a\n",
    "b[0] = 100 # Modify 'b' will also modify 'a'\n",
    "print(a)\n",
    "print(b)\n",
    "\n",
    "a = np.array([1,2,3])\n",
    "\n",
    "b = a.copy()\n",
    "b[0] = 100 # Modify 'b' will not affect 'a'\n",
    "print(a)\n",
    "print(b)"
   ]
  },
  {
   "cell_type": "markdown",
   "id": "3f854d8a",
   "metadata": {},
   "source": [
    "### Mathematics"
   ]
  },
  {
   "cell_type": "code",
   "execution_count": 102,
   "id": "136317d5",
   "metadata": {},
   "outputs": [
    {
     "name": "stdout",
     "output_type": "stream",
     "text": [
      "[1 2 3 4]\n"
     ]
    }
   ],
   "source": [
    "a = np.array([1,2,3,4])\n",
    "print(a)"
   ]
  },
  {
   "cell_type": "code",
   "execution_count": 103,
   "id": "c9c4d63c",
   "metadata": {},
   "outputs": [
    {
     "data": {
      "text/plain": [
       "array([3, 4, 5, 6])"
      ]
     },
     "execution_count": 103,
     "metadata": {},
     "output_type": "execute_result"
    }
   ],
   "source": [
    "a + 2  # Add 2 to each element of 'a'"
   ]
  },
  {
   "cell_type": "code",
   "execution_count": 105,
   "id": "8ff0dab0",
   "metadata": {},
   "outputs": [
    {
     "data": {
      "text/plain": [
       "array([-1,  0,  1,  2])"
      ]
     },
     "execution_count": 105,
     "metadata": {},
     "output_type": "execute_result"
    }
   ],
   "source": [
    "a - 2 # Subtract 2 from each element of 'a'"
   ]
  },
  {
   "cell_type": "code",
   "execution_count": 106,
   "id": "3386f57f",
   "metadata": {},
   "outputs": [
    {
     "data": {
      "text/plain": [
       "array([2, 4, 6, 8])"
      ]
     },
     "execution_count": 106,
     "metadata": {},
     "output_type": "execute_result"
    }
   ],
   "source": [
    "a * 2 # Multiply each element of 'a' by 2"
   ]
  },
  {
   "cell_type": "code",
   "execution_count": 107,
   "id": "2298a421",
   "metadata": {},
   "outputs": [
    {
     "data": {
      "text/plain": [
       "array([0.5, 1. , 1.5, 2. ])"
      ]
     },
     "execution_count": 107,
     "metadata": {},
     "output_type": "execute_result"
    }
   ],
   "source": [
    "a / 2 # Divide each element of 'a' by 2"
   ]
  },
  {
   "cell_type": "code",
   "execution_count": 110,
   "id": "60349843",
   "metadata": {},
   "outputs": [
    {
     "data": {
      "text/plain": [
       "array([ 7,  8,  9, 10])"
      ]
     },
     "execution_count": 110,
     "metadata": {},
     "output_type": "execute_result"
    }
   ],
   "source": [
    "a += 2 # Add 2 to each element of 'a' in place\n",
    "a"
   ]
  },
  {
   "cell_type": "code",
   "execution_count": 111,
   "id": "daed5e76",
   "metadata": {},
   "outputs": [
    {
     "data": {
      "text/plain": [
       "array([ 8,  8, 10, 10])"
      ]
     },
     "execution_count": 111,
     "metadata": {},
     "output_type": "execute_result"
    }
   ],
   "source": [
    "b = np.array([1,0,1,0])\n",
    "a + b # Element-wise addition of 'a' and 'b'"
   ]
  },
  {
   "cell_type": "code",
   "execution_count": 112,
   "id": "e052cab5",
   "metadata": {},
   "outputs": [
    {
     "data": {
      "text/plain": [
       "array([ 49,  64,  81, 100])"
      ]
     },
     "execution_count": 112,
     "metadata": {},
     "output_type": "execute_result"
    }
   ],
   "source": [
    "a ** 2 # Square each element of 'a'"
   ]
  },
  {
   "cell_type": "code",
   "execution_count": null,
   "id": "b1a24168",
   "metadata": {},
   "outputs": [
    {
     "data": {
      "text/plain": [
       "array([ 0.6569866 ,  0.98935825,  0.41211849, -0.54402111])"
      ]
     },
     "execution_count": 113,
     "metadata": {},
     "output_type": "execute_result"
    }
   ],
   "source": [
    "# Take the sin and cos of each element\n",
    "np.sin(a)  # Compute the sine of each element of 'a'\n",
    "np.cos(a) # Compute the cosine of each element of 'a'"
   ]
  },
  {
   "cell_type": "markdown",
   "id": "6f63ac2c",
   "metadata": {},
   "source": [
    "#### Linear Algebra"
   ]
  },
  {
   "cell_type": "code",
   "execution_count": 117,
   "id": "ace12c72",
   "metadata": {},
   "outputs": [
    {
     "name": "stdout",
     "output_type": "stream",
     "text": [
      "[[1 1 1]\n",
      " [1 1 1]]\n",
      "[[2 2]\n",
      " [2 2]\n",
      " [2 2]]\n"
     ]
    },
    {
     "data": {
      "text/plain": [
       "array([[6, 6],\n",
       "       [6, 6]])"
      ]
     },
     "execution_count": 117,
     "metadata": {},
     "output_type": "execute_result"
    }
   ],
   "source": [
    "a = np.full((2,3), 1)\n",
    "print(a)\n",
    "\n",
    "b = np.full((3,2), 2)\n",
    "print(b)\n",
    "\n",
    "np.matmul(a,b)  # Matrix multiplication of 'a' and 'b'"
   ]
  },
  {
   "cell_type": "code",
   "execution_count": 118,
   "id": "e9027c76",
   "metadata": {},
   "outputs": [
    {
     "data": {
      "text/plain": [
       "np.float64(1.0)"
      ]
     },
     "execution_count": 118,
     "metadata": {},
     "output_type": "execute_result"
    }
   ],
   "source": [
    "# Find the determinan of a matrix\n",
    "c = np.identity(3)  # Create a 3x3 identity matrix\n",
    "np.linalg.det(c) # Compute the determinant of 'c'"
   ]
  },
  {
   "cell_type": "markdown",
   "id": "81b8ac5d",
   "metadata": {},
   "source": [
    "#### Statistics"
   ]
  },
  {
   "cell_type": "code",
   "execution_count": 120,
   "id": "157e85b6",
   "metadata": {},
   "outputs": [
    {
     "data": {
      "text/plain": [
       "array([[1, 2, 3],\n",
       "       [4, 5, 6]])"
      ]
     },
     "execution_count": 120,
     "metadata": {},
     "output_type": "execute_result"
    }
   ],
   "source": [
    "stats = np.array([[1,2,3],[4,5,6]])  # Create a 2D array\n",
    "stats"
   ]
  },
  {
   "cell_type": "code",
   "execution_count": 126,
   "id": "08cdb4b0",
   "metadata": {},
   "outputs": [
    {
     "data": {
      "text/plain": [
       "array([1, 2, 3])"
      ]
     },
     "execution_count": 126,
     "metadata": {},
     "output_type": "execute_result"
    }
   ],
   "source": [
    "np.min(stats, axis=1)  # Find the minimum value along each row\n",
    "np.min(stats, axis=0)  # Find the minimum value along each column"
   ]
  },
  {
   "cell_type": "code",
   "execution_count": 127,
   "id": "cd04734a",
   "metadata": {},
   "outputs": [
    {
     "data": {
      "text/plain": [
       "array([4, 5, 6])"
      ]
     },
     "execution_count": 127,
     "metadata": {},
     "output_type": "execute_result"
    }
   ],
   "source": [
    "np.max(stats, axis=0) # Find the maximum value along each column"
   ]
  },
  {
   "cell_type": "code",
   "execution_count": 130,
   "id": "6f9128ed",
   "metadata": {},
   "outputs": [
    {
     "data": {
      "text/plain": [
       "array([ 6, 15])"
      ]
     },
     "execution_count": 130,
     "metadata": {},
     "output_type": "execute_result"
    }
   ],
   "source": [
    "np.sum(stats) # Compute the sum of all elements in 'stats'\n",
    "np.sum(stats, axis=0) # Compute the sum along each column\n",
    "np.sum(stats, axis=1) # Compute the sum along each row"
   ]
  },
  {
   "cell_type": "markdown",
   "id": "cc9d8ff9",
   "metadata": {},
   "source": [
    "#### Reorganizing arrays"
   ]
  },
  {
   "cell_type": "code",
   "execution_count": 135,
   "id": "0982ad37",
   "metadata": {},
   "outputs": [
    {
     "name": "stdout",
     "output_type": "stream",
     "text": [
      "[[1 2 3 4]\n",
      " [5 6 7 8]]\n",
      "[[1]\n",
      " [2]\n",
      " [3]\n",
      " [4]\n",
      " [5]\n",
      " [6]\n",
      " [7]\n",
      " [8]]\n",
      "[[[1 2]\n",
      "  [3 4]]\n",
      "\n",
      " [[5 6]\n",
      "  [7 8]]]\n"
     ]
    }
   ],
   "source": [
    "before = np.array([[1,2,3,4],[5,6,7,8]])  # Create a 2D array\n",
    "print(before)  # Print the shape of 'before'\n",
    "\n",
    "after = before.reshape((8,1))  # Reshape 'before' to a 2D array with shape (8, 1)\n",
    "print(after)  # Print the reshaped array\n",
    "\n",
    "after = before.reshape((2,2,2))  # Reshape 'before' to a 3D array with shape (2, 2, 2)\n",
    "print(after)  # Print the reshaped array\n",
    "\n",
    "# Reshaping works as long as the total number of elements remains the same"
   ]
  },
  {
   "cell_type": "code",
   "execution_count": 138,
   "id": "f0ec9268",
   "metadata": {},
   "outputs": [
    {
     "data": {
      "text/plain": [
       "array([[1, 2, 3, 4],\n",
       "       [5, 6, 7, 8],\n",
       "       [1, 2, 3, 4],\n",
       "       [5, 6, 7, 8]])"
      ]
     },
     "execution_count": 138,
     "metadata": {},
     "output_type": "execute_result"
    }
   ],
   "source": [
    "# Vertically stacking vectors\n",
    "v1 = np.array([1,2,3,4])\n",
    "v2 = np.array([5,6,7,8])\n",
    "\n",
    "np.vstack([v1, v2,v1,v2])  # Stack 'v1' and 'v2' vertically (row-wise)"
   ]
  },
  {
   "cell_type": "code",
   "execution_count": 140,
   "id": "ffc7368c",
   "metadata": {},
   "outputs": [
    {
     "data": {
      "text/plain": [
       "array([[1., 1., 1., 1., 0., 0.],\n",
       "       [1., 1., 1., 1., 0., 0.]])"
      ]
     },
     "execution_count": 140,
     "metadata": {},
     "output_type": "execute_result"
    }
   ],
   "source": [
    "# Horizontally stacking vectors\n",
    "h1 = np.ones((2,4))\n",
    "h2 = np.zeros((2,2))\n",
    "\n",
    "np.hstack((h1,h2))  # Stack 'h1' and 'h2' horizontally (column-wise)"
   ]
  },
  {
   "cell_type": "markdown",
   "id": "11bc0cac",
   "metadata": {},
   "source": [
    "### Miscellaneous\n",
    "\n",
    "#### Load Data from File"
   ]
  },
  {
   "cell_type": "code",
   "execution_count": 149,
   "id": "65abfffc",
   "metadata": {},
   "outputs": [
    {
     "data": {
      "text/plain": [
       "array([[  1,  13,  21,  11, 196,  75,   4,   3,  34,   6,   7,   8,   0,\n",
       "          1,   2,   3,   4,   5],\n",
       "       [  3,  42,  12,  33, 766,  75,   4,  55,   6,   4,   3,   3,   5,\n",
       "          6,   7,   0,  11,  12],\n",
       "       [  1,  22,  33,  11, 999,  11,   2,   1,  78,   0,   1,   2,   9,\n",
       "          8,   7,   1,  76,  88]], dtype=int32)"
      ]
     },
     "execution_count": 149,
     "metadata": {},
     "output_type": "execute_result"
    }
   ],
   "source": [
    "filedata = np.genfromtxt('../data/test/data.txt', delimiter=',') # Load data from a text file with comma as the delimiter\n",
    "filedata = filedata.astype('int32')  # Convert the data type to int32\n",
    "filedata"
   ]
  },
  {
   "cell_type": "markdown",
   "id": "feb88882",
   "metadata": {},
   "source": [
    "#### Boolean Masking and Advanced Indexing"
   ]
  },
  {
   "cell_type": "code",
   "execution_count": 150,
   "id": "a44aef2c",
   "metadata": {},
   "outputs": [
    {
     "data": {
      "text/plain": [
       "array([[False, False, False, False,  True,  True, False, False, False,\n",
       "        False, False, False, False, False, False, False, False, False],\n",
       "       [False, False, False, False,  True,  True, False,  True, False,\n",
       "        False, False, False, False, False, False, False, False, False],\n",
       "       [False, False, False, False,  True, False, False, False,  True,\n",
       "        False, False, False, False, False, False, False,  True,  True]])"
      ]
     },
     "execution_count": 150,
     "metadata": {},
     "output_type": "execute_result"
    }
   ],
   "source": [
    "filedata > 50  # Create a boolean mask where elements are greater than 50"
   ]
  },
  {
   "cell_type": "code",
   "execution_count": 159,
   "id": "21dd270d",
   "metadata": {},
   "outputs": [
    {
     "data": {
      "text/plain": [
       "array([[ True,  True,  True,  True, False, False,  True,  True,  True,\n",
       "         True,  True,  True,  True,  True,  True,  True,  True,  True],\n",
       "       [ True,  True,  True,  True, False, False,  True, False,  True,\n",
       "         True,  True,  True,  True,  True,  True,  True,  True,  True],\n",
       "       [ True,  True,  True,  True, False,  True,  True,  True, False,\n",
       "         True,  True,  True,  True,  True,  True,  True, False, False]])"
      ]
     },
     "execution_count": 159,
     "metadata": {},
     "output_type": "execute_result"
    }
   ],
   "source": [
    "filedata[filedata > 50]  # Access elements greater than 50 using the boolean mask\n",
    "\n",
    "np.any(filedata > 50, axis=0)  # Check if any element in each column is greater than 50\n",
    "\n",
    "np.all(filedata > 50, axis=1)  # Check if all elements in each row are greater than 50\n",
    "\n",
    "((filedata > 50) & (filedata < 100)) # Create a boolean mask where elements are greater than 50 and less than 100\n",
    "(~(filedata > 50) & (filedata < 100)) # Create a boolean mask where elements are not greater than 50 and less than 100"
   ]
  },
  {
   "cell_type": "code",
   "execution_count": 154,
   "id": "44bee07d",
   "metadata": {},
   "outputs": [
    {
     "data": {
      "text/plain": [
       "array([2, 3, 9])"
      ]
     },
     "execution_count": 154,
     "metadata": {},
     "output_type": "execute_result"
    }
   ],
   "source": [
    "## You can index with a list in NumPY\n",
    "a = np.array([1,2,3,4,5,6,7,8,9])\n",
    "a[[1,2,8]]  # Access elements at indices 1, 2, and 8"
   ]
  }
 ],
 "metadata": {
  "kernelspec": {
   "display_name": "venv",
   "language": "python",
   "name": "python3"
  },
  "language_info": {
   "codemirror_mode": {
    "name": "ipython",
    "version": 3
   },
   "file_extension": ".py",
   "mimetype": "text/x-python",
   "name": "python",
   "nbconvert_exporter": "python",
   "pygments_lexer": "ipython3",
   "version": "3.11.3"
  }
 },
 "nbformat": 4,
 "nbformat_minor": 5
}
