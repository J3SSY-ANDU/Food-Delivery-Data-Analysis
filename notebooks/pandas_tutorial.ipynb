{
 "cells": [
  {
   "cell_type": "markdown",
   "id": "9958ba87-cd87-4369-b49e-999a2691f510",
   "metadata": {},
   "source": [
    "# Intro to dataframes"
   ]
  },
  {
   "cell_type": "code",
   "execution_count": null,
   "id": "cc913c63-74c9-4844-ba3a-32e33e604a28",
   "metadata": {
    "editable": true,
    "slideshow": {
     "slide_type": ""
    },
    "tags": []
   },
   "outputs": [],
   "source": [
    "import pandas as pd\n",
    "\n",
    "df = pd.DataFrame([[1,2,3],[4,5,6],[7,8,9]], columns=[\"A\", \"B\", \"C\"], index=['x','y','z'])"
   ]
  },
  {
   "cell_type": "code",
   "execution_count": null,
   "id": "5e30fcad-6ca4-4f20-baeb-652f80a0ee59",
   "metadata": {},
   "outputs": [],
   "source": [
    "df"
   ]
  },
  {
   "cell_type": "code",
   "execution_count": null,
   "id": "e3cff7f2-fefa-426c-b07a-bc01e18dc65d",
   "metadata": {},
   "outputs": [],
   "source": [
    "df.head(2) # head shows the top 5 lines or the number of lines you passed"
   ]
  },
  {
   "cell_type": "code",
   "execution_count": null,
   "id": "80375692-df6a-46b2-b221-878a6ee2a0d6",
   "metadata": {},
   "outputs": [],
   "source": [
    "df.tail(1) # tail is the same as head, but from the bottom"
   ]
  },
  {
   "cell_type": "code",
   "execution_count": null,
   "id": "b09f45e2-6a8e-428b-97e4-607596b0a4bb",
   "metadata": {},
   "outputs": [],
   "source": [
    "df.columns # returns the name of the columns"
   ]
  },
  {
   "cell_type": "code",
   "execution_count": null,
   "id": "3afeb661-7f05-4f86-8c32-cf11cb0089fe",
   "metadata": {},
   "outputs": [],
   "source": [
    "df.index # returns the name of the rows (index)"
   ]
  },
  {
   "cell_type": "code",
   "execution_count": null,
   "id": "01443b1e-cab8-403f-8fd2-bb515ab09ba3",
   "metadata": {},
   "outputs": [],
   "source": [
    "df.columns.tolist()\n",
    "df.index.tolist() # tolist() gets the values into a list"
   ]
  },
  {
   "cell_type": "code",
   "execution_count": null,
   "id": "59fec1c4-4bed-41a6-b21d-a6e0e7f040dc",
   "metadata": {},
   "outputs": [],
   "source": [
    "df.info() # gives you info about your dataframe"
   ]
  },
  {
   "cell_type": "code",
   "execution_count": null,
   "id": "38836a40-bf94-4f37-9e6e-4eb0e42b15bf",
   "metadata": {},
   "outputs": [],
   "source": [
    "df.describe() # returns a description of statistics of the data"
   ]
  },
  {
   "cell_type": "code",
   "execution_count": null,
   "id": "44dfcdee-0609-4186-8f93-5e7a1638e31d",
   "metadata": {},
   "outputs": [],
   "source": [
    "df.nunique() # returns how many unique values are in each column"
   ]
  },
  {
   "cell_type": "code",
   "execution_count": null,
   "id": "06fc4467-a4fc-41f2-98ae-3c574ed57de1",
   "metadata": {},
   "outputs": [],
   "source": [
    "df.shape # returns n * m or row * columns lenght"
   ]
  },
  {
   "cell_type": "code",
   "execution_count": null,
   "id": "9b62f98e-080f-4454-ac50-08d342459590",
   "metadata": {},
   "outputs": [],
   "source": [
    "df.size"
   ]
  },
  {
   "cell_type": "markdown",
   "id": "a4e58973-3545-46cd-a0da-0758b843e3e0",
   "metadata": {},
   "source": [
    "---"
   ]
  },
  {
   "cell_type": "markdown",
   "id": "458e7fb0-6949-4823-bb9b-97f37d4194a3",
   "metadata": {},
   "source": [
    "# Loading in Dataframes in Files"
   ]
  },
  {
   "cell_type": "code",
   "execution_count": null,
   "id": "88b16455-51a8-4a71-8768-f0fdd37df313",
   "metadata": {},
   "outputs": [],
   "source": [
    "coffee = pd.read_csv('https://raw.githubusercontent.com/KeithGalli/complete-pandas-tutorial/refs/heads/master/warmup-data/coffee.csv')"
   ]
  },
  {
   "cell_type": "code",
   "execution_count": null,
   "id": "d5eacece-1984-4f5d-89d7-a44c2544ba27",
   "metadata": {},
   "outputs": [],
   "source": [
    "coffee.head()"
   ]
  },
  {
   "cell_type": "code",
   "execution_count": null,
   "id": "379c4621-70fc-4094-9deb-487db372eb4d",
   "metadata": {},
   "outputs": [],
   "source": [
    "olympics_data = pd.read_excel('../data/test/olympics-data.xlsx') # using openpyxl"
   ]
  },
  {
   "cell_type": "code",
   "execution_count": null,
   "id": "d60352df-7cba-4ab1-b631-b262d6e1feb1",
   "metadata": {},
   "outputs": [],
   "source": [
    "results = pd.read_parquet('../data/test/results.parquet') # using pyarrow"
   ]
  },
  {
   "cell_type": "code",
   "execution_count": null,
   "id": "803a040e-9445-452a-b1b8-9c668eb47a5e",
   "metadata": {},
   "outputs": [],
   "source": [
    "bios = pd.read_csv('https://raw.githubusercontent.com/KeithGalli/complete-pandas-tutorial/refs/heads/master/data/bios.csv')"
   ]
  },
  {
   "cell_type": "code",
   "execution_count": null,
   "id": "be82e4e0-ee60-45d9-b886-512012164d1f",
   "metadata": {},
   "outputs": [],
   "source": [
    "bios.to_excel('../data/test/bios.xlsx') # converting csv data into an excel file"
   ]
  },
  {
   "cell_type": "code",
   "execution_count": null,
   "id": "d455de0b-770f-4fc4-b7e3-902d4ea5f88b",
   "metadata": {},
   "outputs": [],
   "source": [
    "bios.to_parquet('../data/test/bios.parquet') # converting csv data into a parquet file"
   ]
  },
  {
   "cell_type": "markdown",
   "id": "8740fb98-26bb-470f-8187-c20dd3edb9b6",
   "metadata": {},
   "source": [
    "---"
   ]
  },
  {
   "cell_type": "markdown",
   "id": "8ca6f83b",
   "metadata": {},
   "source": [
    "# Accessing Data with Pandas"
   ]
  },
  {
   "cell_type": "code",
   "execution_count": null,
   "id": "ea6c1b79-8829-4deb-a5e3-a2a247ce20b1",
   "metadata": {},
   "outputs": [],
   "source": [
    "coffee.sample(10, random_state=1) # returns random selected data\n",
    "# we can pass random_state so it do not change the data in every run"
   ]
  },
  {
   "cell_type": "code",
   "execution_count": null,
   "id": "23472de8-269f-4ef9-9b3f-134ef33a5bd6",
   "metadata": {},
   "outputs": [],
   "source": [
    "coffee.loc[0:3, [\"Day\", \"Units Sold\"]] # coffee.loc[rows, cols]: coffee.loc[[1,2,3]], coffee.loc[0:3], coffee.loc[[1,2,3], [\"Day\", \"Units Sold]]\n",
    "# returns the specified rows and columns"
   ]
  },
  {
   "cell_type": "code",
   "execution_count": null,
   "id": "b17bf6c6-eeca-4820-9909-a92e60afbb21",
   "metadata": {},
   "outputs": [],
   "source": [
    "coffee.iloc[0:3, [0, 2]] # returns the specified rows and columns using indexes\n",
    "# notice that the upper bound is not included in iloc, but it is in loc"
   ]
  },
  {
   "cell_type": "code",
   "execution_count": null,
   "id": "3062f43e-3136-4a77-b2c0-a3b1c4ca3008",
   "metadata": {},
   "outputs": [],
   "source": [
    "coffee.index = coffee.Day # sets the rows' names from numbers to days\n",
    "# We could have written 'coffee[\"Day\"] also"
   ]
  },
  {
   "cell_type": "code",
   "execution_count": null,
   "id": "ed521116-e89d-4582-ac95-2150740729b5",
   "metadata": {},
   "outputs": [],
   "source": [
    "coffee.head() # we could see that coffee.index is different now"
   ]
  },
  {
   "cell_type": "code",
   "execution_count": null,
   "id": "da00505c-c43e-46c9-b3d5-b50cee49e208",
   "metadata": {},
   "outputs": [],
   "source": [
    "coffee.loc[\"Monday\": \"Wednesday\", \"Units Sold\"] # now we can use the days strings to choose the rows"
   ]
  },
  {
   "cell_type": "code",
   "execution_count": null,
   "id": "4d31801d-1413-4b24-a26d-19c3ef28acd7",
   "metadata": {},
   "outputs": [],
   "source": [
    "coffee.iloc[0:2] # iloc keeps working the same way"
   ]
  },
  {
   "cell_type": "code",
   "execution_count": null,
   "id": "c6b548e5-2a51-4ed8-9a87-967c526201c4",
   "metadata": {},
   "outputs": [],
   "source": [
    "coffee.iloc[1, 2] = 10 # we can change one or multiple values ([1:3, 2]) like this"
   ]
  },
  {
   "cell_type": "code",
   "execution_count": null,
   "id": "f0b6edfb-f556-473c-bb26-42fcdcfdfe57",
   "metadata": {},
   "outputs": [],
   "source": [
    "coffee.head() # row index 1 (Monday) and col index 2 (Units Sold) is now 10"
   ]
  },
  {
   "cell_type": "code",
   "execution_count": null,
   "id": "716ac697-baf8-4123-8206-a07345582418",
   "metadata": {},
   "outputs": [],
   "source": [
    "coffee.at[\"Monday\", \"Units Sold\"] # gets a specific value"
   ]
  },
  {
   "cell_type": "code",
   "execution_count": null,
   "id": "f747185b-37d4-4844-be0c-9a700ab33926",
   "metadata": {},
   "outputs": [],
   "source": [
    "coffee.iat[0,0] # gets a specific value by index"
   ]
  },
  {
   "cell_type": "code",
   "execution_count": null,
   "id": "ed5c6c33-a33b-47eb-9561-ca2177620fac",
   "metadata": {},
   "outputs": [],
   "source": [
    "coffee.sort_values([\"Units Sold\", \"Coffee Type\"], ascending=[1, 1]) # sort values by units sold and then by coffee type if some values are the same\n",
    "# ascending is optional to describe the behavior of the sorting by index for the first list"
   ]
  },
  {
   "cell_type": "code",
   "execution_count": null,
   "id": "f96cb3a7-b515-4780-9923-e5f8e3b3282e",
   "metadata": {},
   "outputs": [],
   "source": [
    "for index, row in coffee.iterrows(): # we can iterate through coffee, but it loses some performance \n",
    "    print(index) # only use when it is necessary, otherwise use pandas built-in functions instead\n",
    "    print(row)\n",
    "    print(\"\\n\")"
   ]
  },
  {
   "cell_type": "markdown",
   "id": "39ee2be3-70e2-445b-8d56-253e3786ece2",
   "metadata": {},
   "source": [
    "---"
   ]
  },
  {
   "cell_type": "markdown",
   "id": "59c60095-ce23-46ae-a1cd-b55052a7ddc1",
   "metadata": {},
   "source": [
    "# Filtering Data"
   ]
  },
  {
   "cell_type": "code",
   "execution_count": null,
   "id": "c6bcfb32-c693-4281-9222-fb81c0572745",
   "metadata": {},
   "outputs": [],
   "source": [
    "bios.head()"
   ]
  },
  {
   "cell_type": "code",
   "execution_count": null,
   "id": "1a1897f7-651e-49db-91bd-18b5a0ce4f18",
   "metadata": {},
   "outputs": [],
   "source": [
    "bios.tail()"
   ]
  },
  {
   "cell_type": "code",
   "execution_count": null,
   "id": "bcad5ee5-33a7-4c49-b263-2d3d88d5c9ad",
   "metadata": {},
   "outputs": [],
   "source": [
    "bios.info()"
   ]
  },
  {
   "cell_type": "code",
   "execution_count": null,
   "id": "733bf381-e2c9-45b4-9775-d102a6d15fdc",
   "metadata": {},
   "outputs": [],
   "source": [
    "bios.loc[bios['height_cm'] > 215, ['name', 'height_cm']] # we can use loc to filter data like this"
   ]
  },
  {
   "cell_type": "code",
   "execution_count": null,
   "id": "d7f6cbd8-1426-4071-ba03-ceb36e98b97f",
   "metadata": {},
   "outputs": [],
   "source": [
    "bios[bios['height_cm'] > 215][['name', 'height_cm']] # the same as the line before, but a short syntax version"
   ]
  },
  {
   "cell_type": "code",
   "execution_count": null,
   "id": "709ef2dd-f1e7-4cab-bc52-0f69398012e0",
   "metadata": {},
   "outputs": [],
   "source": [
    "bios[(bios['height_cm'] > 215) & (bios['born_country'] == 'USA')] # the same as the line before, but a short syntax version"
   ]
  },
  {
   "cell_type": "code",
   "execution_count": null,
   "id": "c898d77b-a43d-4323-8db9-b58c7e488349",
   "metadata": {},
   "outputs": [],
   "source": [
    "bios[bios['name'].str.contains('keith', case=False)] # search name col in bios with name containing the name keith (case=False is to ignore capitalization)"
   ]
  },
  {
   "cell_type": "code",
   "execution_count": null,
   "id": "fff6d58c-eaaf-4d51-a58d-7f3e66d56e74",
   "metadata": {},
   "outputs": [],
   "source": [
    "bios[bios['name'].str.contains('keith|patrick', case=False)] # we can use regex syntax too like 'keith|patrick'\n",
    "# if we want to make regex not possible to use we can add 'regex=False' property"
   ]
  },
  {
   "cell_type": "markdown",
   "id": "03985459-e482-462e-bc6d-1f2d37776851",
   "metadata": {},
   "source": [
    "---"
   ]
  },
  {
   "cell_type": "markdown",
   "id": "44c77f78-979a-4f09-bad7-edfffe0c65fb",
   "metadata": {},
   "source": [
    "### Regular expressions to filter data"
   ]
  },
  {
   "cell_type": "code",
   "execution_count": null,
   "id": "c86755ce-75e1-4ca1-b05c-da308c77aadd",
   "metadata": {},
   "outputs": [],
   "source": [
    "bios[bios['name'].str.contains(r'^a.*a$', case=False, regex=True, na=False)] # Find names starting with 'a' and ending with 'a'"
   ]
  },
  {
   "cell_type": "markdown",
   "id": "bc5c4c21-a5bf-4abd-b48b-7d7cf6c79e2e",
   "metadata": {},
   "source": [
    "---"
   ]
  },
  {
   "cell_type": "code",
   "execution_count": null,
   "id": "ffa19cd3-025e-4307-9cec-03c7eced02bc",
   "metadata": {},
   "outputs": [],
   "source": [
    "bios[bios['born_country'].isin(['USA', 'FRA', 'GBR']) & bios['name'].str.startswith('Jessie')] "
   ]
  },
  {
   "cell_type": "code",
   "execution_count": null,
   "id": "7e8a02bf-9472-46d3-a6f5-7c57e1490531",
   "metadata": {},
   "outputs": [],
   "source": [
    "bios.query('born_country == \"USA\" and born_city == \"Seattle\"')"
   ]
  }
 ],
 "metadata": {
  "kernelspec": {
   "display_name": "Python 3 (ipykernel)",
   "language": "python",
   "name": "python3"
  },
  "language_info": {
   "codemirror_mode": {
    "name": "ipython",
    "version": 3
   },
   "file_extension": ".py",
   "mimetype": "text/x-python",
   "name": "python",
   "nbconvert_exporter": "python",
   "pygments_lexer": "ipython3",
   "version": "3.11.3"
  }
 },
 "nbformat": 4,
 "nbformat_minor": 5
}
