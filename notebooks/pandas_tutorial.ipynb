{
 "cells": [
  {
   "cell_type": "markdown",
   "id": "9958ba87-cd87-4369-b49e-999a2691f510",
   "metadata": {},
   "source": [
    "# Intro to dataframes"
   ]
  },
  {
   "cell_type": "code",
   "execution_count": 7,
   "id": "cc913c63-74c9-4844-ba3a-32e33e604a28",
   "metadata": {
    "editable": true,
    "slideshow": {
     "slide_type": ""
    },
    "tags": []
   },
   "outputs": [],
   "source": [
    "import pandas as pd\n",
    "\n",
    "df = pd.DataFrame([[1,2,3],[4,5,6],[7,8,9]], columns=[\"A\", \"B\", \"C\"], index=['x','y','z'])"
   ]
  },
  {
   "cell_type": "code",
   "execution_count": 8,
   "id": "5e30fcad-6ca4-4f20-baeb-652f80a0ee59",
   "metadata": {},
   "outputs": [
    {
     "data": {
      "text/html": [
       "<div>\n",
       "<style scoped>\n",
       "    .dataframe tbody tr th:only-of-type {\n",
       "        vertical-align: middle;\n",
       "    }\n",
       "\n",
       "    .dataframe tbody tr th {\n",
       "        vertical-align: top;\n",
       "    }\n",
       "\n",
       "    .dataframe thead th {\n",
       "        text-align: right;\n",
       "    }\n",
       "</style>\n",
       "<table border=\"1\" class=\"dataframe\">\n",
       "  <thead>\n",
       "    <tr style=\"text-align: right;\">\n",
       "      <th></th>\n",
       "      <th>A</th>\n",
       "      <th>B</th>\n",
       "      <th>C</th>\n",
       "    </tr>\n",
       "  </thead>\n",
       "  <tbody>\n",
       "    <tr>\n",
       "      <th>x</th>\n",
       "      <td>1</td>\n",
       "      <td>2</td>\n",
       "      <td>3</td>\n",
       "    </tr>\n",
       "    <tr>\n",
       "      <th>y</th>\n",
       "      <td>4</td>\n",
       "      <td>5</td>\n",
       "      <td>6</td>\n",
       "    </tr>\n",
       "    <tr>\n",
       "      <th>z</th>\n",
       "      <td>7</td>\n",
       "      <td>8</td>\n",
       "      <td>9</td>\n",
       "    </tr>\n",
       "  </tbody>\n",
       "</table>\n",
       "</div>"
      ],
      "text/plain": [
       "   A  B  C\n",
       "x  1  2  3\n",
       "y  4  5  6\n",
       "z  7  8  9"
      ]
     },
     "execution_count": 8,
     "metadata": {},
     "output_type": "execute_result"
    }
   ],
   "source": [
    "df"
   ]
  },
  {
   "cell_type": "code",
   "execution_count": 10,
   "id": "e3cff7f2-fefa-426c-b07a-bc01e18dc65d",
   "metadata": {},
   "outputs": [
    {
     "data": {
      "text/html": [
       "<div>\n",
       "<style scoped>\n",
       "    .dataframe tbody tr th:only-of-type {\n",
       "        vertical-align: middle;\n",
       "    }\n",
       "\n",
       "    .dataframe tbody tr th {\n",
       "        vertical-align: top;\n",
       "    }\n",
       "\n",
       "    .dataframe thead th {\n",
       "        text-align: right;\n",
       "    }\n",
       "</style>\n",
       "<table border=\"1\" class=\"dataframe\">\n",
       "  <thead>\n",
       "    <tr style=\"text-align: right;\">\n",
       "      <th></th>\n",
       "      <th>A</th>\n",
       "      <th>B</th>\n",
       "      <th>C</th>\n",
       "    </tr>\n",
       "  </thead>\n",
       "  <tbody>\n",
       "    <tr>\n",
       "      <th>x</th>\n",
       "      <td>1</td>\n",
       "      <td>2</td>\n",
       "      <td>3</td>\n",
       "    </tr>\n",
       "    <tr>\n",
       "      <th>y</th>\n",
       "      <td>4</td>\n",
       "      <td>5</td>\n",
       "      <td>6</td>\n",
       "    </tr>\n",
       "  </tbody>\n",
       "</table>\n",
       "</div>"
      ],
      "text/plain": [
       "   A  B  C\n",
       "x  1  2  3\n",
       "y  4  5  6"
      ]
     },
     "execution_count": 10,
     "metadata": {},
     "output_type": "execute_result"
    }
   ],
   "source": [
    "df.head(2) # head shows the top 5 lines or the number of lines you passed"
   ]
  },
  {
   "cell_type": "code",
   "execution_count": 11,
   "id": "80375692-df6a-46b2-b221-878a6ee2a0d6",
   "metadata": {},
   "outputs": [
    {
     "data": {
      "text/html": [
       "<div>\n",
       "<style scoped>\n",
       "    .dataframe tbody tr th:only-of-type {\n",
       "        vertical-align: middle;\n",
       "    }\n",
       "\n",
       "    .dataframe tbody tr th {\n",
       "        vertical-align: top;\n",
       "    }\n",
       "\n",
       "    .dataframe thead th {\n",
       "        text-align: right;\n",
       "    }\n",
       "</style>\n",
       "<table border=\"1\" class=\"dataframe\">\n",
       "  <thead>\n",
       "    <tr style=\"text-align: right;\">\n",
       "      <th></th>\n",
       "      <th>A</th>\n",
       "      <th>B</th>\n",
       "      <th>C</th>\n",
       "    </tr>\n",
       "  </thead>\n",
       "  <tbody>\n",
       "    <tr>\n",
       "      <th>z</th>\n",
       "      <td>7</td>\n",
       "      <td>8</td>\n",
       "      <td>9</td>\n",
       "    </tr>\n",
       "  </tbody>\n",
       "</table>\n",
       "</div>"
      ],
      "text/plain": [
       "   A  B  C\n",
       "z  7  8  9"
      ]
     },
     "execution_count": 11,
     "metadata": {},
     "output_type": "execute_result"
    }
   ],
   "source": [
    "df.tail(1) # tail is the same as head, but from the bottom"
   ]
  },
  {
   "cell_type": "code",
   "execution_count": 12,
   "id": "b09f45e2-6a8e-428b-97e4-607596b0a4bb",
   "metadata": {},
   "outputs": [
    {
     "data": {
      "text/plain": [
       "Index(['A', 'B', 'C'], dtype='object')"
      ]
     },
     "execution_count": 12,
     "metadata": {},
     "output_type": "execute_result"
    }
   ],
   "source": [
    "df.columns # returns the name of the columns"
   ]
  },
  {
   "cell_type": "code",
   "execution_count": 13,
   "id": "3afeb661-7f05-4f86-8c32-cf11cb0089fe",
   "metadata": {},
   "outputs": [
    {
     "data": {
      "text/plain": [
       "Index(['x', 'y', 'z'], dtype='object')"
      ]
     },
     "execution_count": 13,
     "metadata": {},
     "output_type": "execute_result"
    }
   ],
   "source": [
    "df.index # returns the name of the rows (index)"
   ]
  },
  {
   "cell_type": "code",
   "execution_count": 14,
   "id": "01443b1e-cab8-403f-8fd2-bb515ab09ba3",
   "metadata": {},
   "outputs": [
    {
     "data": {
      "text/plain": [
       "['x', 'y', 'z']"
      ]
     },
     "execution_count": 14,
     "metadata": {},
     "output_type": "execute_result"
    }
   ],
   "source": [
    "df.columns.tolist()\n",
    "df.index.tolist() # tolist() gets the values into a list"
   ]
  },
  {
   "cell_type": "code",
   "execution_count": 15,
   "id": "59fec1c4-4bed-41a6-b21d-a6e0e7f040dc",
   "metadata": {},
   "outputs": [
    {
     "name": "stdout",
     "output_type": "stream",
     "text": [
      "<class 'pandas.core.frame.DataFrame'>\n",
      "Index: 3 entries, x to z\n",
      "Data columns (total 3 columns):\n",
      " #   Column  Non-Null Count  Dtype\n",
      "---  ------  --------------  -----\n",
      " 0   A       3 non-null      int64\n",
      " 1   B       3 non-null      int64\n",
      " 2   C       3 non-null      int64\n",
      "dtypes: int64(3)\n",
      "memory usage: 96.0+ bytes\n"
     ]
    }
   ],
   "source": [
    "df.info() # gives you info about your dataframe"
   ]
  },
  {
   "cell_type": "code",
   "execution_count": 16,
   "id": "38836a40-bf94-4f37-9e6e-4eb0e42b15bf",
   "metadata": {},
   "outputs": [
    {
     "data": {
      "text/html": [
       "<div>\n",
       "<style scoped>\n",
       "    .dataframe tbody tr th:only-of-type {\n",
       "        vertical-align: middle;\n",
       "    }\n",
       "\n",
       "    .dataframe tbody tr th {\n",
       "        vertical-align: top;\n",
       "    }\n",
       "\n",
       "    .dataframe thead th {\n",
       "        text-align: right;\n",
       "    }\n",
       "</style>\n",
       "<table border=\"1\" class=\"dataframe\">\n",
       "  <thead>\n",
       "    <tr style=\"text-align: right;\">\n",
       "      <th></th>\n",
       "      <th>A</th>\n",
       "      <th>B</th>\n",
       "      <th>C</th>\n",
       "    </tr>\n",
       "  </thead>\n",
       "  <tbody>\n",
       "    <tr>\n",
       "      <th>count</th>\n",
       "      <td>3.0</td>\n",
       "      <td>3.0</td>\n",
       "      <td>3.0</td>\n",
       "    </tr>\n",
       "    <tr>\n",
       "      <th>mean</th>\n",
       "      <td>4.0</td>\n",
       "      <td>5.0</td>\n",
       "      <td>6.0</td>\n",
       "    </tr>\n",
       "    <tr>\n",
       "      <th>std</th>\n",
       "      <td>3.0</td>\n",
       "      <td>3.0</td>\n",
       "      <td>3.0</td>\n",
       "    </tr>\n",
       "    <tr>\n",
       "      <th>min</th>\n",
       "      <td>1.0</td>\n",
       "      <td>2.0</td>\n",
       "      <td>3.0</td>\n",
       "    </tr>\n",
       "    <tr>\n",
       "      <th>25%</th>\n",
       "      <td>2.5</td>\n",
       "      <td>3.5</td>\n",
       "      <td>4.5</td>\n",
       "    </tr>\n",
       "    <tr>\n",
       "      <th>50%</th>\n",
       "      <td>4.0</td>\n",
       "      <td>5.0</td>\n",
       "      <td>6.0</td>\n",
       "    </tr>\n",
       "    <tr>\n",
       "      <th>75%</th>\n",
       "      <td>5.5</td>\n",
       "      <td>6.5</td>\n",
       "      <td>7.5</td>\n",
       "    </tr>\n",
       "    <tr>\n",
       "      <th>max</th>\n",
       "      <td>7.0</td>\n",
       "      <td>8.0</td>\n",
       "      <td>9.0</td>\n",
       "    </tr>\n",
       "  </tbody>\n",
       "</table>\n",
       "</div>"
      ],
      "text/plain": [
       "         A    B    C\n",
       "count  3.0  3.0  3.0\n",
       "mean   4.0  5.0  6.0\n",
       "std    3.0  3.0  3.0\n",
       "min    1.0  2.0  3.0\n",
       "25%    2.5  3.5  4.5\n",
       "50%    4.0  5.0  6.0\n",
       "75%    5.5  6.5  7.5\n",
       "max    7.0  8.0  9.0"
      ]
     },
     "execution_count": 16,
     "metadata": {},
     "output_type": "execute_result"
    }
   ],
   "source": [
    "df.describe() # returns a description of statistics of the data"
   ]
  },
  {
   "cell_type": "code",
   "execution_count": 17,
   "id": "44dfcdee-0609-4186-8f93-5e7a1638e31d",
   "metadata": {},
   "outputs": [
    {
     "data": {
      "text/plain": [
       "A    3\n",
       "B    3\n",
       "C    3\n",
       "dtype: int64"
      ]
     },
     "execution_count": 17,
     "metadata": {},
     "output_type": "execute_result"
    }
   ],
   "source": [
    "df.nunique() # returns how many unique values are in each column"
   ]
  },
  {
   "cell_type": "code",
   "execution_count": 18,
   "id": "06fc4467-a4fc-41f2-98ae-3c574ed57de1",
   "metadata": {},
   "outputs": [
    {
     "data": {
      "text/plain": [
       "(3, 3)"
      ]
     },
     "execution_count": 18,
     "metadata": {},
     "output_type": "execute_result"
    }
   ],
   "source": [
    "df.shape # returns n * m or row * columns lenght"
   ]
  },
  {
   "cell_type": "code",
   "execution_count": 19,
   "id": "9b62f98e-080f-4454-ac50-08d342459590",
   "metadata": {},
   "outputs": [
    {
     "data": {
      "text/plain": [
       "9"
      ]
     },
     "execution_count": 19,
     "metadata": {},
     "output_type": "execute_result"
    }
   ],
   "source": [
    "df.size"
   ]
  },
  {
   "cell_type": "markdown",
   "id": "a4e58973-3545-46cd-a0da-0758b843e3e0",
   "metadata": {},
   "source": [
    "---"
   ]
  },
  {
   "cell_type": "markdown",
   "id": "458e7fb0-6949-4823-bb9b-97f37d4194a3",
   "metadata": {},
   "source": [
    "# Loading in Dataframes in Files"
   ]
  },
  {
   "cell_type": "code",
   "execution_count": 20,
   "id": "88b16455-51a8-4a71-8768-f0fdd37df313",
   "metadata": {},
   "outputs": [],
   "source": [
    "coffee = pd.read_csv('https://raw.githubusercontent.com/KeithGalli/complete-pandas-tutorial/refs/heads/master/warmup-data/coffee.csv')"
   ]
  },
  {
   "cell_type": "code",
   "execution_count": 21,
   "id": "d5eacece-1984-4f5d-89d7-a44c2544ba27",
   "metadata": {},
   "outputs": [
    {
     "data": {
      "text/html": [
       "<div>\n",
       "<style scoped>\n",
       "    .dataframe tbody tr th:only-of-type {\n",
       "        vertical-align: middle;\n",
       "    }\n",
       "\n",
       "    .dataframe tbody tr th {\n",
       "        vertical-align: top;\n",
       "    }\n",
       "\n",
       "    .dataframe thead th {\n",
       "        text-align: right;\n",
       "    }\n",
       "</style>\n",
       "<table border=\"1\" class=\"dataframe\">\n",
       "  <thead>\n",
       "    <tr style=\"text-align: right;\">\n",
       "      <th></th>\n",
       "      <th>Day</th>\n",
       "      <th>Coffee Type</th>\n",
       "      <th>Units Sold</th>\n",
       "    </tr>\n",
       "  </thead>\n",
       "  <tbody>\n",
       "    <tr>\n",
       "      <th>0</th>\n",
       "      <td>Monday</td>\n",
       "      <td>Espresso</td>\n",
       "      <td>25</td>\n",
       "    </tr>\n",
       "    <tr>\n",
       "      <th>1</th>\n",
       "      <td>Monday</td>\n",
       "      <td>Latte</td>\n",
       "      <td>15</td>\n",
       "    </tr>\n",
       "    <tr>\n",
       "      <th>2</th>\n",
       "      <td>Tuesday</td>\n",
       "      <td>Espresso</td>\n",
       "      <td>30</td>\n",
       "    </tr>\n",
       "    <tr>\n",
       "      <th>3</th>\n",
       "      <td>Tuesday</td>\n",
       "      <td>Latte</td>\n",
       "      <td>20</td>\n",
       "    </tr>\n",
       "    <tr>\n",
       "      <th>4</th>\n",
       "      <td>Wednesday</td>\n",
       "      <td>Espresso</td>\n",
       "      <td>35</td>\n",
       "    </tr>\n",
       "  </tbody>\n",
       "</table>\n",
       "</div>"
      ],
      "text/plain": [
       "         Day Coffee Type  Units Sold\n",
       "0     Monday    Espresso          25\n",
       "1     Monday       Latte          15\n",
       "2    Tuesday    Espresso          30\n",
       "3    Tuesday       Latte          20\n",
       "4  Wednesday    Espresso          35"
      ]
     },
     "execution_count": 21,
     "metadata": {},
     "output_type": "execute_result"
    }
   ],
   "source": [
    "coffee.head()"
   ]
  },
  {
   "cell_type": "code",
   "execution_count": null,
   "id": "379c4621-70fc-4094-9deb-487db372eb4d",
   "metadata": {},
   "outputs": [],
   "source": [
    "olympics_data = pd.read_excel('../data/test/olympics-data.xlsx') # using openpyxl"
   ]
  },
  {
   "cell_type": "code",
   "execution_count": null,
   "id": "d60352df-7cba-4ab1-b631-b262d6e1feb1",
   "metadata": {},
   "outputs": [],
   "source": [
    "results = pd.read_parquet('../data/test/results.parquet') # using pyarrow"
   ]
  },
  {
   "cell_type": "code",
   "execution_count": 22,
   "id": "803a040e-9445-452a-b1b8-9c668eb47a5e",
   "metadata": {},
   "outputs": [],
   "source": [
    "bios = pd.read_csv('https://raw.githubusercontent.com/KeithGalli/complete-pandas-tutorial/refs/heads/master/data/bios.csv')"
   ]
  },
  {
   "cell_type": "code",
   "execution_count": null,
   "id": "be82e4e0-ee60-45d9-b886-512012164d1f",
   "metadata": {},
   "outputs": [],
   "source": [
    "bios.to_excel('../data/test/bios.xlsx') # converting csv data into an excel file"
   ]
  },
  {
   "cell_type": "code",
   "execution_count": null,
   "id": "d455de0b-770f-4fc4-b7e3-902d4ea5f88b",
   "metadata": {},
   "outputs": [],
   "source": [
    "bios.to_parquet('../data/test/bios.parquet') # converting csv data into a parquet file"
   ]
  },
  {
   "cell_type": "markdown",
   "id": "8740fb98-26bb-470f-8187-c20dd3edb9b6",
   "metadata": {},
   "source": [
    "---"
   ]
  },
  {
   "cell_type": "markdown",
   "id": "8ca6f83b",
   "metadata": {},
   "source": [
    "# Accessing Data with Pandas"
   ]
  },
  {
   "cell_type": "code",
   "execution_count": null,
   "id": "ea6c1b79-8829-4deb-a5e3-a2a247ce20b1",
   "metadata": {},
   "outputs": [],
   "source": [
    "coffee.sample(10, random_state=1) # returns random selected data\n",
    "# we can pass random_state so it do not change the data in every run"
   ]
  },
  {
   "cell_type": "code",
   "execution_count": null,
   "id": "23472de8-269f-4ef9-9b3f-134ef33a5bd6",
   "metadata": {},
   "outputs": [],
   "source": [
    "coffee.loc[0:3, [\"Day\", \"Units Sold\"]] # coffee.loc[rows, cols]: coffee.loc[[1,2,3]], coffee.loc[0:3], coffee.loc[[1,2,3], [\"Day\", \"Units Sold]]\n",
    "# returns the specified rows and columns"
   ]
  },
  {
   "cell_type": "code",
   "execution_count": null,
   "id": "b17bf6c6-eeca-4820-9909-a92e60afbb21",
   "metadata": {},
   "outputs": [],
   "source": [
    "coffee.iloc[0:3, [0, 2]] # returns the specified rows and columns using indexes\n",
    "# notice that the upper bound is not included in iloc, but it is in loc"
   ]
  },
  {
   "cell_type": "code",
   "execution_count": null,
   "id": "3062f43e-3136-4a77-b2c0-a3b1c4ca3008",
   "metadata": {},
   "outputs": [],
   "source": [
    "coffee.index = coffee.Day # sets the rows' names from numbers to days\n",
    "# We could have written 'coffee[\"Day\"] also"
   ]
  },
  {
   "cell_type": "code",
   "execution_count": null,
   "id": "ed521116-e89d-4582-ac95-2150740729b5",
   "metadata": {},
   "outputs": [],
   "source": [
    "coffee.head() # we could see that coffee.index is different now"
   ]
  },
  {
   "cell_type": "code",
   "execution_count": null,
   "id": "da00505c-c43e-46c9-b3d5-b50cee49e208",
   "metadata": {},
   "outputs": [],
   "source": [
    "coffee.loc[\"Monday\": \"Wednesday\", \"Units Sold\"] # now we can use the days strings to choose the rows"
   ]
  },
  {
   "cell_type": "code",
   "execution_count": null,
   "id": "4d31801d-1413-4b24-a26d-19c3ef28acd7",
   "metadata": {},
   "outputs": [],
   "source": [
    "coffee.iloc[0:2] # iloc keeps working the same way"
   ]
  },
  {
   "cell_type": "code",
   "execution_count": null,
   "id": "c6b548e5-2a51-4ed8-9a87-967c526201c4",
   "metadata": {},
   "outputs": [],
   "source": [
    "coffee.iloc[1, 2] = 10 # we can change one or multiple values ([1:3, 2]) like this"
   ]
  },
  {
   "cell_type": "code",
   "execution_count": null,
   "id": "f0b6edfb-f556-473c-bb26-42fcdcfdfe57",
   "metadata": {},
   "outputs": [],
   "source": [
    "coffee.head() # row index 1 (Monday) and col index 2 (Units Sold) is now 10"
   ]
  },
  {
   "cell_type": "code",
   "execution_count": null,
   "id": "716ac697-baf8-4123-8206-a07345582418",
   "metadata": {},
   "outputs": [],
   "source": [
    "coffee.at[\"Monday\", \"Units Sold\"] # gets a specific value"
   ]
  },
  {
   "cell_type": "code",
   "execution_count": null,
   "id": "f747185b-37d4-4844-be0c-9a700ab33926",
   "metadata": {},
   "outputs": [],
   "source": [
    "coffee.iat[0,0] # gets a specific value by index"
   ]
  },
  {
   "cell_type": "code",
   "execution_count": null,
   "id": "ed5c6c33-a33b-47eb-9561-ca2177620fac",
   "metadata": {},
   "outputs": [],
   "source": [
    "coffee.sort_values([\"Units Sold\", \"Coffee Type\"], ascending=[1, 1]) # sort values by units sold and then by coffee type if some values are the same\n",
    "# ascending is optional to describe the behavior of the sorting by index for the first list"
   ]
  },
  {
   "cell_type": "code",
   "execution_count": null,
   "id": "f96cb3a7-b515-4780-9923-e5f8e3b3282e",
   "metadata": {},
   "outputs": [],
   "source": [
    "for index, row in coffee.iterrows(): # we can iterate through coffee, but it loses some performance \n",
    "    print(index) # only use when it is necessary, otherwise use pandas built-in functions instead\n",
    "    print(row)\n",
    "    print(\"\\n\")"
   ]
  },
  {
   "cell_type": "markdown",
   "id": "39ee2be3-70e2-445b-8d56-253e3786ece2",
   "metadata": {},
   "source": [
    "---"
   ]
  },
  {
   "cell_type": "markdown",
   "id": "59c60095-ce23-46ae-a1cd-b55052a7ddc1",
   "metadata": {},
   "source": [
    "# Filtering Data"
   ]
  },
  {
   "cell_type": "code",
   "execution_count": null,
   "id": "c6bcfb32-c693-4281-9222-fb81c0572745",
   "metadata": {},
   "outputs": [],
   "source": [
    "bios.head()"
   ]
  },
  {
   "cell_type": "code",
   "execution_count": null,
   "id": "1a1897f7-651e-49db-91bd-18b5a0ce4f18",
   "metadata": {},
   "outputs": [],
   "source": [
    "bios.tail()"
   ]
  },
  {
   "cell_type": "code",
   "execution_count": null,
   "id": "bcad5ee5-33a7-4c49-b263-2d3d88d5c9ad",
   "metadata": {},
   "outputs": [],
   "source": [
    "bios.info()"
   ]
  },
  {
   "cell_type": "code",
   "execution_count": null,
   "id": "733bf381-e2c9-45b4-9775-d102a6d15fdc",
   "metadata": {},
   "outputs": [],
   "source": [
    "bios.loc[bios['height_cm'] > 215, ['name', 'height_cm']] # we can use loc to filter data like this"
   ]
  },
  {
   "cell_type": "code",
   "execution_count": null,
   "id": "d7f6cbd8-1426-4071-ba03-ceb36e98b97f",
   "metadata": {},
   "outputs": [],
   "source": [
    "bios[bios['height_cm'] > 215][['name', 'height_cm']] # the same as the line before, but a short syntax version"
   ]
  },
  {
   "cell_type": "code",
   "execution_count": null,
   "id": "709ef2dd-f1e7-4cab-bc52-0f69398012e0",
   "metadata": {},
   "outputs": [],
   "source": [
    "bios[(bios['height_cm'] > 215) & (bios['born_country'] == 'USA')] # the same as the line before, but a short syntax version"
   ]
  },
  {
   "cell_type": "code",
   "execution_count": null,
   "id": "c898d77b-a43d-4323-8db9-b58c7e488349",
   "metadata": {},
   "outputs": [],
   "source": [
    "bios[bios['name'].str.contains('keith', case=False)] # search name col in bios with name containing the name keith (case=False is to ignore capitalization)"
   ]
  },
  {
   "cell_type": "code",
   "execution_count": null,
   "id": "fff6d58c-eaaf-4d51-a58d-7f3e66d56e74",
   "metadata": {},
   "outputs": [],
   "source": [
    "bios[bios['name'].str.contains('keith|patrick', case=False)] # we can use regex syntax too like 'keith|patrick'\n",
    "# if we want to make regex not possible to use we can add 'regex=False' property"
   ]
  },
  {
   "cell_type": "markdown",
   "id": "03985459-e482-462e-bc6d-1f2d37776851",
   "metadata": {},
   "source": [
    "---"
   ]
  },
  {
   "cell_type": "markdown",
   "id": "44c77f78-979a-4f09-bad7-edfffe0c65fb",
   "metadata": {},
   "source": [
    "### Regular expressions to filter data"
   ]
  },
  {
   "cell_type": "code",
   "execution_count": null,
   "id": "c86755ce-75e1-4ca1-b05c-da308c77aadd",
   "metadata": {},
   "outputs": [],
   "source": [
    "bios[bios['name'].str.contains(r'^a.*a$', case=False, regex=True, na=False)] # Find names starting with 'a' and ending with 'a'"
   ]
  },
  {
   "cell_type": "markdown",
   "id": "bc5c4c21-a5bf-4abd-b48b-7d7cf6c79e2e",
   "metadata": {},
   "source": [
    "---"
   ]
  },
  {
   "cell_type": "code",
   "execution_count": null,
   "id": "ffa19cd3-025e-4307-9cec-03c7eced02bc",
   "metadata": {},
   "outputs": [],
   "source": [
    "bios[bios['born_country'].isin(['USA', 'FRA', 'GBR']) & bios['name'].str.startswith('Jessie')] "
   ]
  },
  {
   "cell_type": "code",
   "execution_count": null,
   "id": "7e8a02bf-9472-46d3-a6f5-7c57e1490531",
   "metadata": {},
   "outputs": [],
   "source": [
    "bios.query('born_country == \"USA\" and born_city == \"Seattle\"')"
   ]
  },
  {
   "cell_type": "markdown",
   "id": "48e2c5e7-a41d-4812-b0cd-235198ddc424",
   "metadata": {},
   "source": [
    "---"
   ]
  },
  {
   "cell_type": "markdown",
   "id": "428a1ff1-be6a-457b-ba3b-7a72945292cb",
   "metadata": {},
   "source": [
    "# Adding / Removing Columns"
   ]
  },
  {
   "cell_type": "code",
   "execution_count": null,
   "id": "02b67988-6e52-4c7b-8b98-a9ae64af45fe",
   "metadata": {},
   "outputs": [],
   "source": [
    "import numpy as np\n",
    "coffee['new_price'] = np.where(coffee['Coffee Type'] == 'Espresso', 3.99, 5.99) # creates a new column and gives the value of 3.99 to the Espresso coffe type and 5.99 for the other ones"
   ]
  },
  {
   "cell_type": "code",
   "execution_count": null,
   "id": "3aaa4494-b515-4c27-b72c-0d09183075f1",
   "metadata": {},
   "outputs": [],
   "source": [
    "coffee.drop(\"Monday\") # it deletes the 'Monday' index rows temporarily"
   ]
  },
  {
   "cell_type": "code",
   "execution_count": null,
   "id": "cc282bb9-6d07-42f3-b1ac-ed63fac9ac73",
   "metadata": {},
   "outputs": [],
   "source": [
    "coffee['price'] = 4.99"
   ]
  },
  {
   "cell_type": "code",
   "execution_count": null,
   "id": "2d98615b-5f4f-49b2-80f2-beb9d5900098",
   "metadata": {},
   "outputs": [],
   "source": [
    "coffee.drop(columns=['price']) # eliminates price column temporarily"
   ]
  },
  {
   "cell_type": "code",
   "execution_count": null,
   "id": "1e7038b8-6cd8-4be7-8469-80daa467bd97",
   "metadata": {},
   "outputs": [],
   "source": [
    "coffee.drop(columns=['price'], inplace=True) # eliminates price column permanently"
   ]
  },
  {
   "cell_type": "code",
   "execution_count": null,
   "id": "e8cd44bd-430c-40ff-942c-b408dd2975b5",
   "metadata": {},
   "outputs": [],
   "source": [
    "coffee = coffee.drop(columns=['price']) # this should work too"
   ]
  },
  {
   "cell_type": "code",
   "execution_count": null,
   "id": "13ab8b2c-7c5f-4183-bdea-770841ed02ba",
   "metadata": {},
   "outputs": [],
   "source": [
    "coffee = coffee[['Day', 'Coffee Type', 'Units Sold', 'new_price']] # this should work too"
   ]
  },
  {
   "cell_type": "code",
   "execution_count": null,
   "id": "1541413c-75e9-4c95-9a62-a879385283de",
   "metadata": {},
   "outputs": [],
   "source": [
    "coffee['revenue'] = coffee['Units Sold'] * coffee['new_price'] # we can create a new column with the values of another columns"
   ]
  },
  {
   "cell_type": "code",
   "execution_count": null,
   "id": "f8188617-952b-4c88-8581-b1576a3c786f",
   "metadata": {},
   "outputs": [],
   "source": [
    "coffee.rename(columns={'new_price': 'price'}) # this is temporary, if we want to make it permanently, we need to add 'inplace=True' or 'coffee = ...' just like we did with 'drop'"
   ]
  },
  {
   "cell_type": "code",
   "execution_count": null,
   "id": "58b1db33-37bd-4a52-8c20-ee62487cd2f4",
   "metadata": {},
   "outputs": [],
   "source": [
    "bios_new = bios.copy()"
   ]
  },
  {
   "cell_type": "code",
   "execution_count": null,
   "id": "2079394e-9389-4792-abd2-c6d0546d4e5e",
   "metadata": {},
   "outputs": [],
   "source": [
    "bios_new['first_name'] = bios_new['name'].str.split(' ').str[0]"
   ]
  },
  {
   "cell_type": "code",
   "execution_count": null,
   "id": "ae3ba009-1df4-4460-9ea4-f728238ed31a",
   "metadata": {},
   "outputs": [],
   "source": [
    "bios_new.query('first_name == \"Jessy\"')"
   ]
  },
  {
   "cell_type": "code",
   "execution_count": null,
   "id": "599f157c-0e1b-416d-a2b4-fcf5480f59f0",
   "metadata": {},
   "outputs": [],
   "source": [
    "bios_new.info()"
   ]
  },
  {
   "cell_type": "code",
   "execution_count": null,
   "id": "b7ac648f-1d68-4807-8e42-ca50c71cb7bb",
   "metadata": {},
   "outputs": [],
   "source": [
    "bios_new['born_datetime'] = pd.to_datetime(bios_new['born_date'])"
   ]
  },
  {
   "cell_type": "code",
   "execution_count": null,
   "id": "504bc0e5-2cf0-499b-b51f-6cedcd72dccf",
   "metadata": {},
   "outputs": [],
   "source": [
    "bios_new.info()"
   ]
  },
  {
   "cell_type": "code",
   "execution_count": null,
   "id": "c59a2590-f357-4f21-aac1-be5892de63e0",
   "metadata": {},
   "outputs": [],
   "source": [
    "bios_new['born_year'] = bios_new['born_datetime'].dt.year\n",
    "\n",
    "bios_new[['name', 'born_year']]"
   ]
  },
  {
   "cell_type": "code",
   "execution_count": null,
   "id": "fbab0b07-11ee-4e15-87e8-27efece17d6c",
   "metadata": {},
   "outputs": [],
   "source": [
    "bios_new.to_csv('../data/test/bios_new.csv', index=False)"
   ]
  },
  {
   "cell_type": "code",
   "execution_count": null,
   "id": "3ef69eae-c621-4aca-9ae1-e57223aebe35",
   "metadata": {
    "scrolled": true
   },
   "outputs": [],
   "source": [
    "bios_new['height_category'] = bios_new['height_cm'].apply(lambda x: \"Short\" if x < 165 else (\"Average\" if x < 185 else \"Tall\"))\n",
    "\n",
    "bios_new[['name', 'height_cm', 'height_category']]"
   ]
  },
  {
   "cell_type": "code",
   "execution_count": 23,
   "id": "dbe343dc-2853-4d98-8553-4bb4ca810a77",
   "metadata": {},
   "outputs": [],
   "source": [
    "def categorize_athlete(row):\n",
    "    if row['height_cm'] < 175 or row['weight_kg'] <= 70:\n",
    "        return 'Lightweight'\n",
    "    elif row['height_cm'] < 185 or row['weight_kg'] <= 80:\n",
    "        return 'Middleweight'\n",
    "    else:\n",
    "        return 'Heavyweight'\n",
    "\n",
    "bios['Category'] = bios.apply(categorize_athlete, axis=1) # axis = 1 is rows and axios = 0 is cols"
   ]
  },
  {
   "cell_type": "code",
   "execution_count": 24,
   "id": "493dfcc3-7c38-4a31-8f57-96ed78fadefe",
   "metadata": {},
   "outputs": [
    {
     "data": {
      "text/html": [
       "<div>\n",
       "<style scoped>\n",
       "    .dataframe tbody tr th:only-of-type {\n",
       "        vertical-align: middle;\n",
       "    }\n",
       "\n",
       "    .dataframe tbody tr th {\n",
       "        vertical-align: top;\n",
       "    }\n",
       "\n",
       "    .dataframe thead th {\n",
       "        text-align: right;\n",
       "    }\n",
       "</style>\n",
       "<table border=\"1\" class=\"dataframe\">\n",
       "  <thead>\n",
       "    <tr style=\"text-align: right;\">\n",
       "      <th></th>\n",
       "      <th>athlete_id</th>\n",
       "      <th>name</th>\n",
       "      <th>born_date</th>\n",
       "      <th>born_city</th>\n",
       "      <th>born_region</th>\n",
       "      <th>born_country</th>\n",
       "      <th>NOC</th>\n",
       "      <th>height_cm</th>\n",
       "      <th>weight_kg</th>\n",
       "      <th>died_date</th>\n",
       "      <th>Category</th>\n",
       "    </tr>\n",
       "  </thead>\n",
       "  <tbody>\n",
       "    <tr>\n",
       "      <th>0</th>\n",
       "      <td>1</td>\n",
       "      <td>Jean-François Blanchy</td>\n",
       "      <td>1886-12-12</td>\n",
       "      <td>Bordeaux</td>\n",
       "      <td>Gironde</td>\n",
       "      <td>FRA</td>\n",
       "      <td>France</td>\n",
       "      <td>NaN</td>\n",
       "      <td>NaN</td>\n",
       "      <td>1960-10-02</td>\n",
       "      <td>Heavyweight</td>\n",
       "    </tr>\n",
       "    <tr>\n",
       "      <th>1</th>\n",
       "      <td>2</td>\n",
       "      <td>Arnaud Boetsch</td>\n",
       "      <td>1969-04-01</td>\n",
       "      <td>Meulan</td>\n",
       "      <td>Yvelines</td>\n",
       "      <td>FRA</td>\n",
       "      <td>France</td>\n",
       "      <td>183.0</td>\n",
       "      <td>76.0</td>\n",
       "      <td>NaN</td>\n",
       "      <td>Middleweight</td>\n",
       "    </tr>\n",
       "    <tr>\n",
       "      <th>2</th>\n",
       "      <td>3</td>\n",
       "      <td>Jean Borotra</td>\n",
       "      <td>1898-08-13</td>\n",
       "      <td>Biarritz</td>\n",
       "      <td>Pyrénées-Atlantiques</td>\n",
       "      <td>FRA</td>\n",
       "      <td>France</td>\n",
       "      <td>183.0</td>\n",
       "      <td>76.0</td>\n",
       "      <td>1994-07-17</td>\n",
       "      <td>Middleweight</td>\n",
       "    </tr>\n",
       "    <tr>\n",
       "      <th>3</th>\n",
       "      <td>4</td>\n",
       "      <td>Jacques Brugnon</td>\n",
       "      <td>1895-05-11</td>\n",
       "      <td>Paris VIIIe</td>\n",
       "      <td>Paris</td>\n",
       "      <td>FRA</td>\n",
       "      <td>France</td>\n",
       "      <td>168.0</td>\n",
       "      <td>64.0</td>\n",
       "      <td>1978-03-20</td>\n",
       "      <td>Lightweight</td>\n",
       "    </tr>\n",
       "    <tr>\n",
       "      <th>4</th>\n",
       "      <td>5</td>\n",
       "      <td>Albert Canet</td>\n",
       "      <td>1878-04-17</td>\n",
       "      <td>Wandsworth</td>\n",
       "      <td>England</td>\n",
       "      <td>GBR</td>\n",
       "      <td>France</td>\n",
       "      <td>NaN</td>\n",
       "      <td>NaN</td>\n",
       "      <td>1930-07-25</td>\n",
       "      <td>Heavyweight</td>\n",
       "    </tr>\n",
       "    <tr>\n",
       "      <th>...</th>\n",
       "      <td>...</td>\n",
       "      <td>...</td>\n",
       "      <td>...</td>\n",
       "      <td>...</td>\n",
       "      <td>...</td>\n",
       "      <td>...</td>\n",
       "      <td>...</td>\n",
       "      <td>...</td>\n",
       "      <td>...</td>\n",
       "      <td>...</td>\n",
       "      <td>...</td>\n",
       "    </tr>\n",
       "    <tr>\n",
       "      <th>145495</th>\n",
       "      <td>149222</td>\n",
       "      <td>Polina Luchnikova</td>\n",
       "      <td>2002-01-30</td>\n",
       "      <td>Serov</td>\n",
       "      <td>Sverdlovsk</td>\n",
       "      <td>RUS</td>\n",
       "      <td>ROC</td>\n",
       "      <td>167.0</td>\n",
       "      <td>61.0</td>\n",
       "      <td>NaN</td>\n",
       "      <td>Lightweight</td>\n",
       "    </tr>\n",
       "    <tr>\n",
       "      <th>145496</th>\n",
       "      <td>149223</td>\n",
       "      <td>Valeriya Merkusheva</td>\n",
       "      <td>1999-09-20</td>\n",
       "      <td>Moskva (Moscow)</td>\n",
       "      <td>Moskva</td>\n",
       "      <td>RUS</td>\n",
       "      <td>ROC</td>\n",
       "      <td>168.0</td>\n",
       "      <td>65.0</td>\n",
       "      <td>NaN</td>\n",
       "      <td>Lightweight</td>\n",
       "    </tr>\n",
       "    <tr>\n",
       "      <th>145497</th>\n",
       "      <td>149224</td>\n",
       "      <td>Yuliya Smirnova</td>\n",
       "      <td>1998-05-08</td>\n",
       "      <td>Kotlas</td>\n",
       "      <td>Arkhangelsk</td>\n",
       "      <td>RUS</td>\n",
       "      <td>ROC</td>\n",
       "      <td>163.0</td>\n",
       "      <td>55.0</td>\n",
       "      <td>NaN</td>\n",
       "      <td>Lightweight</td>\n",
       "    </tr>\n",
       "    <tr>\n",
       "      <th>145498</th>\n",
       "      <td>149225</td>\n",
       "      <td>André Foussard</td>\n",
       "      <td>1899-05-19</td>\n",
       "      <td>Niort</td>\n",
       "      <td>Deux-Sèvres</td>\n",
       "      <td>FRA</td>\n",
       "      <td>France</td>\n",
       "      <td>166.0</td>\n",
       "      <td>NaN</td>\n",
       "      <td>1986-03-18</td>\n",
       "      <td>Lightweight</td>\n",
       "    </tr>\n",
       "    <tr>\n",
       "      <th>145499</th>\n",
       "      <td>149814</td>\n",
       "      <td>Bill Phillips</td>\n",
       "      <td>1913-07-15</td>\n",
       "      <td>Dulwich Hill</td>\n",
       "      <td>New South Wales</td>\n",
       "      <td>AUS</td>\n",
       "      <td>Australia</td>\n",
       "      <td>NaN</td>\n",
       "      <td>NaN</td>\n",
       "      <td>2003-10-20</td>\n",
       "      <td>Heavyweight</td>\n",
       "    </tr>\n",
       "  </tbody>\n",
       "</table>\n",
       "<p>145500 rows × 11 columns</p>\n",
       "</div>"
      ],
      "text/plain": [
       "        athlete_id                   name   born_date        born_city  \\\n",
       "0                1  Jean-François Blanchy  1886-12-12         Bordeaux   \n",
       "1                2         Arnaud Boetsch  1969-04-01           Meulan   \n",
       "2                3           Jean Borotra  1898-08-13         Biarritz   \n",
       "3                4        Jacques Brugnon  1895-05-11      Paris VIIIe   \n",
       "4                5           Albert Canet  1878-04-17       Wandsworth   \n",
       "...            ...                    ...         ...              ...   \n",
       "145495      149222      Polina Luchnikova  2002-01-30            Serov   \n",
       "145496      149223    Valeriya Merkusheva  1999-09-20  Moskva (Moscow)   \n",
       "145497      149224        Yuliya Smirnova  1998-05-08           Kotlas   \n",
       "145498      149225         André Foussard  1899-05-19            Niort   \n",
       "145499      149814          Bill Phillips  1913-07-15     Dulwich Hill   \n",
       "\n",
       "                 born_region born_country        NOC  height_cm  weight_kg  \\\n",
       "0                    Gironde          FRA     France        NaN        NaN   \n",
       "1                   Yvelines          FRA     France      183.0       76.0   \n",
       "2       Pyrénées-Atlantiques          FRA     France      183.0       76.0   \n",
       "3                      Paris          FRA     France      168.0       64.0   \n",
       "4                    England          GBR     France        NaN        NaN   \n",
       "...                      ...          ...        ...        ...        ...   \n",
       "145495            Sverdlovsk          RUS        ROC      167.0       61.0   \n",
       "145496                Moskva          RUS        ROC      168.0       65.0   \n",
       "145497           Arkhangelsk          RUS        ROC      163.0       55.0   \n",
       "145498           Deux-Sèvres          FRA     France      166.0        NaN   \n",
       "145499       New South Wales          AUS  Australia        NaN        NaN   \n",
       "\n",
       "         died_date      Category  \n",
       "0       1960-10-02   Heavyweight  \n",
       "1              NaN  Middleweight  \n",
       "2       1994-07-17  Middleweight  \n",
       "3       1978-03-20   Lightweight  \n",
       "4       1930-07-25   Heavyweight  \n",
       "...            ...           ...  \n",
       "145495         NaN   Lightweight  \n",
       "145496         NaN   Lightweight  \n",
       "145497         NaN   Lightweight  \n",
       "145498  1986-03-18   Lightweight  \n",
       "145499  2003-10-20   Heavyweight  \n",
       "\n",
       "[145500 rows x 11 columns]"
      ]
     },
     "execution_count": 24,
     "metadata": {},
     "output_type": "execute_result"
    }
   ],
   "source": [
    "bios"
   ]
  },
  {
   "cell_type": "markdown",
   "id": "844c1b56-f94d-4829-9e40-7c40ba6ffc8f",
   "metadata": {},
   "source": [
    "---"
   ]
  },
  {
   "cell_type": "markdown",
   "id": "0c642b4e-0fe1-4628-a0ae-292828691942",
   "metadata": {},
   "source": [
    "# Merging & Concatenating Data"
   ]
  }
 ],
 "metadata": {
  "kernelspec": {
   "display_name": "Python 3 (ipykernel)",
   "language": "python",
   "name": "python3"
  },
  "language_info": {
   "codemirror_mode": {
    "name": "ipython",
    "version": 3
   },
   "file_extension": ".py",
   "mimetype": "text/x-python",
   "name": "python",
   "nbconvert_exporter": "python",
   "pygments_lexer": "ipython3",
   "version": "3.11.3"
  }
 },
 "nbformat": 4,
 "nbformat_minor": 5
}
