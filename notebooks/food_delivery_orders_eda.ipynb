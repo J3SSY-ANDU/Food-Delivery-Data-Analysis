{
 "cells": [
  {
   "cell_type": "code",
   "execution_count": 7,
   "id": "58125995-76d5-4dae-ba5b-e6a226f12a26",
   "metadata": {},
   "outputs": [
    {
     "name": "stdout",
     "output_type": "stream",
     "text": [
      "   order_id  customer_id            restaurant_name cuisine_type  \\\n",
      "0   1477147       337525                    Hangawi       Korean   \n",
      "1   1477685       358141  Blue Ribbon Sushi Izakaya     Japanese   \n",
      "2   1477070        66393                Cafe Habana      Mexican   \n",
      "3   1477334       106968  Blue Ribbon Fried Chicken     American   \n",
      "4   1478249        76942           Dirty Bird to Go     American   \n",
      "\n",
      "   cost_of_the_order day_of_the_week     rating  food_preparation_time  \\\n",
      "0              30.75         Weekend  Not given                     25   \n",
      "1              12.08         Weekend  Not given                     25   \n",
      "2              12.23         Weekday          5                     23   \n",
      "3              29.20         Weekend          3                     25   \n",
      "4              11.59         Weekday          4                     25   \n",
      "\n",
      "   delivery_time  \n",
      "0             20  \n",
      "1             23  \n",
      "2             28  \n",
      "3             15  \n",
      "4             24  \n"
     ]
    }
   ],
   "source": [
    "import pandas as pd\n",
    "import numpy as np\n",
    "\n",
    "df = pd.read_csv('../data/raw/NYC_restaurants_orders/food_order.csv')\n",
    "print(df.head())\n",
    "# print(df.columns)"
   ]
  }
 ],
 "metadata": {
  "kernelspec": {
   "display_name": "Python 3 (ipykernel)",
   "language": "python",
   "name": "python3"
  },
  "language_info": {
   "codemirror_mode": {
    "name": "ipython",
    "version": 3
   },
   "file_extension": ".py",
   "mimetype": "text/x-python",
   "name": "python",
   "nbconvert_exporter": "python",
   "pygments_lexer": "ipython3",
   "version": "3.12.4"
  }
 },
 "nbformat": 4,
 "nbformat_minor": 5
}
